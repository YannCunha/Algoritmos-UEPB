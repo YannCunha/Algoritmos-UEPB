{
  "nbformat": 4,
  "nbformat_minor": 0,
  "metadata": {
    "colab": {
      "provenance": [],
      "authorship_tag": "ABX9TyNwtenV9OefttSMpPEi8cl+"
    },
    "kernelspec": {
      "name": "python3",
      "display_name": "Python 3"
    },
    "language_info": {
      "name": "python"
    }
  },
  "cells": [
    {
      "cell_type": "markdown",
      "source": [
        "22.\tFaça um Programa que peça dois números e imprima o maior deles."
      ],
      "metadata": {
        "id": "86WcQ-Er8M0n"
      }
    },
    {
      "cell_type": "code",
      "execution_count": null,
      "metadata": {
        "id": "EFrDMzP368we"
      },
      "outputs": [],
      "source": [
        "num1 = int(input(\"Digite um numero \"))\n",
        "num2 = int(input(\"Digite outro numero \"))\n",
        "\n",
        "if num1 > num2:\n",
        "  print (\"O maior numero é:\", num1)\n",
        "elif num2 > num1:\n",
        "  print (\"O maior numero é:\", num2)\n",
        "else:\n",
        "  print (\"Os numeros são iguais\")"
      ]
    },
    {
      "cell_type": "markdown",
      "source": [
        "23.\tFaça um Programa que peça um valor e mostre na tela se o valor é positivo ou negativo"
      ],
      "metadata": {
        "id": "Dr1U-7Aw9Fa_"
      }
    },
    {
      "cell_type": "code",
      "source": [
        "num = int(input(\"Digite um numero \"))\n",
        "\n",
        "if num >= 0:\n",
        "  print(\"Numero Positivo\")\n",
        "else:\n",
        "  print(\"Numero Negativo\")"
      ],
      "metadata": {
        "id": "zotwr5Ql9KjG"
      },
      "execution_count": null,
      "outputs": []
    },
    {
      "cell_type": "markdown",
      "source": [
        "24.\tFaça um Programa que verifique se uma letra digitada é \"F\" ou \"M\". Conforme a letra escrever: F - Feminino, M - Masculino, Sexo Inválido."
      ],
      "metadata": {
        "id": "2ikMkpqV90EE"
      }
    },
    {
      "cell_type": "code",
      "source": [
        "sexo = str(input(\"Digite seu sexo com F ou M: \"))\n",
        "\n",
        "sexo = sexo.upper()\n",
        "if sexo == \"F\":\n",
        "  print(\"FEMININO\")\n",
        "elif sexo == \"M\":\n",
        "  print(\"MASCULINO\")\n",
        "else:\n",
        "  print(\"INVÁLIDO\")"
      ],
      "metadata": {
        "id": "IQZeyeDs-AJs"
      },
      "execution_count": null,
      "outputs": []
    },
    {
      "cell_type": "markdown",
      "source": [
        "25.\tFaça um programa para a leitura de duas notas parciais de um aluno. O programa deve calcular a média alcançada por aluno e apresentar:\n",
        "\n",
        "A mensagem \"Aprovado\", se a média alcançada for maior ou igual a sete;\n",
        "\n",
        "A mensagem \"Reprovado\", se a média for menor do que sete;\n",
        "\n",
        "A mensagem \"Aprovado com Distinção\", se a média for igual a dez.\n"
      ],
      "metadata": {
        "id": "Z-1Sn72fQcxi"
      }
    },
    {
      "cell_type": "code",
      "source": [
        "media1 = float(input(\"Digite sua primeira nota: \"))\n",
        "media2 = float(input(\"Digite sua segunda nota: \"))\n",
        "\n",
        "media = (media1 + media2) / 2\n",
        "\n",
        "if media == 10:\n",
        "  print(\"Aprovado com Distinção\")\n",
        "elif media > 10:\n",
        "  print(\"Nota inválida\")\n",
        "elif media >= 7:\n",
        "  print(\"Aprovado\")\n",
        "else:\n",
        "  print(\"Reprovado\")"
      ],
      "metadata": {
        "id": "VsA_2vJBVDhV"
      },
      "execution_count": null,
      "outputs": []
    },
    {
      "cell_type": "markdown",
      "source": [
        "26.\tFaça um Programa que leia três números e mostre o maior deles."
      ],
      "metadata": {
        "id": "b3HFdYBPZTMO"
      }
    },
    {
      "cell_type": "code",
      "source": [
        "num1 = int(input(\"Digite um numero: \"))\n",
        "num2 = int(input(\"Digite outro numero: \"))\n",
        "num3 = int(input(\"Digite mais um numero: \"))\n",
        "\n",
        "if num1 > num2 and num1 > num3:\n",
        "  print(\"O numero maior é:\", num1)\n",
        "elif num2 > num1 and num2 > num3:\n",
        "  print(\"O numero maior é:\", num2)\n",
        "elif num3 > num1 and num3 > num2:\n",
        "  print(\"O numero maior é:\", num3)\n",
        "else:\n",
        "  print(\"Os numeros são iguais\")"
      ],
      "metadata": {
        "id": "TMp44N3-ZnjG"
      },
      "execution_count": null,
      "outputs": []
    },
    {
      "cell_type": "markdown",
      "source": [
        "27.\tFaça um programa que pergunte o preço de três produtos e informe qual produto você deve comprar, sabendo que a decisão é sempre pelo mais barato."
      ],
      "metadata": {
        "id": "inRXNGW9bz6O"
      }
    },
    {
      "cell_type": "code",
      "source": [
        "produto1 = float(input(\"Digite o preço do primeiro produto: \"))\n",
        "produto2 = float(input(\"Digite o preço do segundo produto: \"))\n",
        "produto3 = float(input(\"Digite o preço do terceiro produto: \"))\n",
        "\n",
        "if produto1 < produto2 and produto1 < produto3:\n",
        "  print(\"Você deve comprar o primeiro produto\")\n",
        "elif produto2 < produto1 and produto2 < produto3:\n",
        "  print(\"Você deve comprar o segundo produto\")\n",
        "elif produto3 < produto1 and produto3 < produto2:\n",
        "  print(\"Você deve comprar o terceiro produto\")\n",
        "else:\n",
        "  print(\"Há produtos que tem valores iguais\")"
      ],
      "metadata": {
        "id": "MhJhIK1RcfRe"
      },
      "execution_count": null,
      "outputs": []
    },
    {
      "cell_type": "markdown",
      "source": [
        "28.\tFaça um Programa que pergunte em que turno você estuda. Peça para digitar M-matutino ou V-Vespertino ou N- Noturno. Imprima a mensagem \"Bom Dia!\", \"Boa Tarde!\" ou \"Boa Noite!\" ou \"Valor Inválido!\", conforme o caso."
      ],
      "metadata": {
        "id": "oEmZ8vB4dMDV"
      }
    },
    {
      "cell_type": "code",
      "source": [
        "print(\"Digite M para matutino, V para vespertino ou N para noturno\")\n",
        "turno = str(input(\"Em que turno você estuda? \"))\n",
        "turno = turno.upper()\n",
        "\n",
        "if turno == \"M\":\n",
        "  print(\"Bom dia!\")\n",
        "elif turno == \"V\":\n",
        "  print(\"Boa tarde!\")\n",
        "elif turno == \"N\":\n",
        "  print(\"Boa noite!\")\n",
        "else:\n",
        "  print(\"Valor inválido!\")\n"
      ],
      "metadata": {
        "id": "ROZHtNzzdgN2"
      },
      "execution_count": null,
      "outputs": []
    },
    {
      "cell_type": "markdown",
      "source": [
        "29.\tAs Organizações Tabajara resolveram dar um aumento de salário aos seus colaboradores e lhe contrataram para desenvolver o programa que calculará os reajustes. Faça um programa que recebe o salário de um colaborador e o reajuste segundo o seguinte critério, baseado no salário atual:\n",
        "\n",
        "salários até R$ 280,00 (incluindo): aumento de 20%\n",
        "\n",
        "salários entre R$ 280,00 e R$ 700,00: aumento de 15%\n",
        "\n",
        "salários entre R$ 700,00 e R$ 1500,00: aumento de 10%\n",
        "\n",
        "salários de R$ 1500,00 em diante: aumento de 5%\n",
        "\n",
        "Após o aumento ser realizado, informe na tela:\n",
        "\n",
        "o salário antes do reajuste;\n",
        "\n",
        "o percentual de aumento aplicado;\n",
        "\n",
        "o valor do aumento;\n",
        "\n",
        "o novo salário, após o aumento.\n"
      ],
      "metadata": {
        "id": "lL_E_7QYdlR0"
      }
    },
    {
      "cell_type": "code",
      "source": [
        "salario = float(input(\"Digite seu salário: \"))\n",
        "\n",
        "if salario <= 280:\n",
        "  aumento = salario * 0.2\n",
        "  novo_salario = salario + aumento\n",
        "  print(\"Salário antes do reajuste: R$\", salario)\n",
        "  print(\"Percentual de aumento aplicado: 20%\")\n",
        "  print(\"Valor do aumento: R$\", aumento)\n",
        "  print(\"Novo salário: R$\", novo_salario)\n",
        "elif salario > 280 and salario <= 700:\n",
        "  aumento = salario * 0.15\n",
        "  novo_salario = salario + aumento\n",
        "  print(\"Salário antes do reajuste: R$\", salario)\n",
        "  print(\"Percentual de aumento aplicado: 15%\")\n",
        "  print(\"Valor do aumento: R$\", aumento)\n",
        "  print(\"Novo salário: R$\", novo_salario)\n",
        "elif salario > 700 and salario <= 1500:\n",
        "  aumento = salario * 0.1\n",
        "  novo_salario = salario + aumento\n",
        "  print(\"Salário antes do reajuste: R$\", salario)\n",
        "  print(\"Percentual de aumento aplicado: 10%\")\n",
        "  print(\"Valor do aumento: R$\", aumento)\n",
        "  print(\"Novo salário: R$\", novo_salario)\n",
        "else:\n",
        "  aumento = salario * 0.05\n",
        "  novo_salario = salario + aumento\n",
        "  print(\"Salário antes do reajuste: R$\", salario)\n",
        "  print(\"Percentual de aumento aplicado: 5%\")\n",
        "  print(\"Valor do aumento: R$\", aumento)\n",
        "  print(\"Novo salário: R$\", novo_salario)"
      ],
      "metadata": {
        "id": "NJ70DET0d7d8"
      },
      "execution_count": null,
      "outputs": []
    },
    {
      "cell_type": "markdown",
      "source": [
        "30.\tFaça um programa para o cálculo de uma folha de pagamento, sabendo que os descontos são do Imposto de Renda, que depende do salário bruto (conforme tabela abaixo) e 3% para o Sindicato e que o FGTS corresponde a 11% do Salário Bruto, mas não é descontado (é a empresa que deposita). O Salário Líquido corresponde ao Salário Bruto menos os descontos. O programa deverá pedir ao usuário o valor da sua hora e a quantidade de horas trabalhadas no mês.\n",
        "\n",
        "Desconto do IR:\n",
        "\n",
        "Salário Bruto até 900 (inclusive) - isento\n",
        "\n",
        "Salário Bruto até 1500 (inclusive) - desconto de 5%\n",
        "\n",
        "Salário Bruto até 2500 (inclusive) - desconto de 10%\n",
        "\n",
        "Salário Bruto acima de 2500 - desconto de 20%\n",
        "\n",
        "Imprima na tela as informações, dispostas conforme o exemplo abaixo. No exemplo o valor da hora é 5 e a quantidade de hora é 220.\n",
        "\n",
        "i.\tSalário Bruto: (5 * 220)        : R$ 1100,00\n",
        "\n",
        "ii.\t(-) IR (5%)                     : R$   55,00  \n",
        "\n",
        "iii.\t(-) INSS ( 10%)                 : R$  110,00\n",
        "\n",
        "iv.\tFGTS (11%)                      : R$  121,00\n",
        "\n",
        "v.\tTotal de descontos              : R$  165,00\n",
        "\n",
        "vi.\tSalário Liquido                 : R$  935,00\n"
      ],
      "metadata": {
        "id": "67nzPeUefOmc"
      }
    },
    {
      "cell_type": "code",
      "source": [
        "horastrabalhadas = int(input(\"Digite a quantidade de horas trabalhadas: \"))\n",
        "valorhora = float(input(\"Digite o valor da hora trabalhada: \"))\n",
        "\n",
        "salariobruto = horastrabalhadas * valorhora\n",
        "print(\"Salário Bruto: R$\", salariobruto)\n",
        "if salariobruto <= 900:\n",
        "  IR = 0\n",
        "  print(\"(-) IR (isento)\")\n",
        "elif salariobruto > 900 and salariobruto <= 1500:\n",
        "  IR = salariobruto * 0.05\n",
        "  print(\"(-) IR (5%): R$\", IR)\n",
        "elif salariobruto > 1500 and salariobruto <= 2500:\n",
        "  IR = salariobruto * 0.1\n",
        "  print(\"(-) IR (10%): R$\", IR)\n",
        "else:\n",
        "  IR = salariobruto * 0.2\n",
        "  print(\"(-) IR (20%): R$\", IR)\n",
        "\n",
        "INSS = salariobruto * 0.1\n",
        "FGTS = salariobruto * 0.11\n",
        "sindicato = salariobruto * 0.03\n",
        "descontos = IR + INSS + sindicato\n",
        "salarioliquido = salariobruto - descontos\n",
        "\n",
        "print(\"(-) INSS (10%): R$\", INSS)\n",
        "print(\"(-) Sindicato (3%): R$\", sindicato)\n",
        "print(\"FGTS (11%): R$\", FGTS)\n",
        "print(\"Total de descontos: R$\", descontos)\n",
        "print(\"Salário Liquido: R$\", salarioliquido)\n"
      ],
      "metadata": {
        "id": "igzWTprTgeJl"
      },
      "execution_count": null,
      "outputs": []
    },
    {
      "cell_type": "markdown",
      "source": [
        "31.\tFaça um Programa que leia um número e exiba o dia correspondente da semana. (1-Domingo, 2- Segunda, etc.), se digitar outro valor deve aparecer valor inválido.  "
      ],
      "metadata": {
        "id": "YQ3Sblmgity0"
      }
    },
    {
      "cell_type": "code",
      "source": [
        "diadasemana = int(input(\"Digite um numero de 1 a 7: \"))\n",
        "\n",
        "if diadasemana == 1:\n",
        "  print(\"Domingo\")\n",
        "elif diadasemana == 2:\n",
        "  print(\"Segunda-feira\")\n",
        "elif diadasemana == 3;\n",
        "  print(\"Terça-feira\")\n",
        "elif diadasemana == 4:\n",
        "  print(\"Quarta-feira\")\n",
        "elif diadasemana == 5:\n",
        "  print(\"Quinta-feira\")\n",
        "elif diadasemana == 6:\n",
        "  print(\"Sexta-feira\")\n",
        "elif diadasemana == 7:\n",
        "  print(\"Sábado\")\n",
        "else:\n",
        "  print(\"Valor inválido\")"
      ],
      "metadata": {
        "id": "8N5UO73AjOzR"
      },
      "execution_count": null,
      "outputs": []
    },
    {
      "cell_type": "markdown",
      "source": [
        "32.\tFaça um programa que lê as duas notas parciais obtidas por um aluno numa disciplina ao longo de um semestre, e calcule a sua média. A atribuição de conceitos obedece à tabela abaixo:\n",
        "\n",
        "Média de Aproveitamento  Conceito\n",
        "\n",
        "Entre 9.0 e 10.0        A\n",
        "\n",
        "Entre 7.5 e 9.0         B\n",
        "\n",
        "Entre 6.0 e 7.5         C\n",
        "\n",
        "Entre 4.0 e 6.0         D\n",
        "\n",
        "Entre 4.0 e zero       E\n",
        "\n",
        "O algoritmo deve mostrar na tela as notas, a média, o conceito correspondente e a mensagem “APROVADO” se o conceito for A, B ou C ou “REPROVADO” se o conceito for D ou E.\n"
      ],
      "metadata": {
        "id": "Oyt8NlNwjVUm"
      }
    },
    {
      "cell_type": "code",
      "source": [
        "nota1 = float(input(\"Digite a primeira nota: \"))\n",
        "nota2 = float(input(\"Digite a segunda nota: \"))\n",
        "\n",
        "media = (nota1 + nota2) / 2\n",
        "\n",
        "if media >= 9 and media <= 10:\n",
        "  print(\"A\")\n",
        "  print(\"APROVADO\")\n",
        "elif media < 9 and media >= 7.5:\n",
        "  print(\"B\")\n",
        "  print(\"APROVADO\")\n",
        "elif media < 7.5 and media >= 6:\n",
        "  print(\"C\")\n",
        "  print(\"APROVADO\")\n",
        "elif media < 6 and media >= 4:\n",
        "  print(\"D\")\n",
        "  print(\"REPROVADO\")\n",
        "elif media < 4 and media >= 0:\n",
        "  print(\"E\")\n",
        "  print(\"REPROVADO\")\n",
        "else:\n",
        "  print(\"Nota inválida\")"
      ],
      "metadata": {
        "id": "gm5gm5Jm_co6"
      },
      "execution_count": null,
      "outputs": []
    },
    {
      "cell_type": "markdown",
      "source": [
        "33.\tFaça um Programa que peça os 3 lados de um triângulo. O programa deverá informar se os valores podem ser um triângulo. Indique, caso os lados formem um triângulo, se o mesmo é: equilátero, isósceles ou escaleno.\n",
        "\n",
        "Dicas: Três lados formam um triângulo quando a soma de quaisquer dois lados for maior que o terceiro; Triângulo Equilátero: três lados iguais; Triângulo isósceles: quaisquer dois lados iguais; Triângulo Escaleno: três lados diferentes;\n"
      ],
      "metadata": {
        "id": "EhqcXL4W_LMy"
      }
    },
    {
      "cell_type": "code",
      "source": [
        "lado1 = float(input(\"Digite o primeiro lado: \"))\n",
        "lado2 = float(input(\"Digite o segundo lado: \"))\n",
        "lado3 = float(input(\"Digite o terceiro lado: \"))\n",
        "\n",
        "if lado1 + lado2 > lado3 and lado1 + lado3 > lado2 and lado2 + lado3 > lado1:\n",
        "  print(\"É um triângulo\")\n",
        "else:\n",
        "  print(\"Não é um triângulo\")\n",
        "\n",
        "if lado1 == lado2 and lado1 == lado3:\n",
        "  print(\"Triângulo Equilátero\")\n",
        "elif lado1 == lado2 or lado1 == lado3 or lado2 == lado3:\n",
        "  print(\"Triângulo Isósceles\")\n",
        "else:\n",
        "  print(\"Triângulo Escaleno\")"
      ],
      "metadata": {
        "id": "sif8pfviASew"
      },
      "execution_count": null,
      "outputs": []
    },
    {
      "cell_type": "markdown",
      "source": [
        "34.\tFaça um programa que calcule as raízes de uma equação do segundo grau, na forma ax2 + bx + c. O programa deverá pedir os valores de a, b e c e fazer as consistências, informando ao usuário nas seguintes situações:\n",
        "\n",
        "Se o usuário informar o valor de A igual a zero, a equação não é do segundo grau e o programa não deve fazer pedir os demais valores, sendo encerrado;\n",
        "\n",
        "Se o delta calculado for negativo, a equação não possui raizes reais. Informe ao usuáro e encerre o programa;\n",
        "\n",
        "35.\tSe o delta calculado for igual a zero a equação possui apenas uma raiz real; informe-a ao usuário;\n",
        "\n",
        "Se o delta for positivo, a equação possui duas raiz reais; informe-as ao usuário;\n"
      ],
      "metadata": {
        "id": "pqBA2EWkAf3p"
      }
    },
    {
      "cell_type": "code",
      "source": [
        "a = float(input(\"Digite o valor de a: \"))\n",
        "\n",
        "if a == 0:\n",
        "  print(\"A equação não é do segundo grau\")\n",
        "else:\n",
        "  b = float(input(\"Digite o valor de b: \"))\n",
        "  c = float(input(\"Digite o valor de c: \"))\n",
        "\n",
        "  delta = b**2 - 4*a*c\n",
        "\n",
        "  if delta > 0:\n",
        "    x1 = (-b + delta**0.5) / (2*a)\n",
        "    x2 = (-b - delta**0.5) / (2*a)\n",
        "    print(\"As raízes da equação são:\", x1, \"e\", x2)\n",
        "    print(\"A equação possui duas raízes reais\")\n",
        "  elif delta == 0:\n",
        "    x = -b / (2*a)\n",
        "    print(\"A raiz da equação é:\", x)\n",
        "    print(\"A equação possui apenas uma raiz real\")\n",
        "  else:\n",
        "    print(\"A equação não possui raízes reais\")"
      ],
      "metadata": {
        "collapsed": true,
        "id": "xSW5P-ZSBkPT"
      },
      "execution_count": null,
      "outputs": []
    },
    {
      "cell_type": "markdown",
      "source": [
        " 36.\tFaça um Programa que peça um número correspondente a um determinado ano e em seguida informe se este ano é ou não bissexto.\n"
      ],
      "metadata": {
        "id": "G2fI-OjaCjxX"
      }
    },
    {
      "cell_type": "code",
      "source": [
        "ano = int(input(\"Digite um ano: \"))\n",
        "\n",
        "if ano % 4 == 0 and ano % 100 != 0 or ano % 400 == 0:\n",
        "  print(\"O ano é bissexto\")\n",
        "else:\n",
        "  print(\"O ano não é bissexto\")"
      ],
      "metadata": {
        "id": "DM341LR2EsNM"
      },
      "execution_count": null,
      "outputs": []
    },
    {
      "cell_type": "markdown",
      "source": [
        "37.\tFaça um Programa para leitura de três notas parciais de um aluno. O programa deve calcular a média alcançada por aluno e apresentar:\n",
        "A mensagem \"Aprovado\", se a média for maior ou igual a 7, com a respectiva média alcançada;\n",
        "A mensagem \"Reprovado\", se a média for menor do que 7, com a respectiva média alcançada;\n",
        "A mensagem \"Aprovado com Distinção\", se a média for igual a 10.\n",
        "\n",
        "\n",
        "\n",
        "\n"
      ],
      "metadata": {
        "id": "F-rqnhqlGn11"
      }
    },
    {
      "cell_type": "code",
      "source": [
        "media1 = float(input(\"Digite sua primeira nota: \"))\n",
        "media2 = float(input(\"Digite sua segunda nota: \"))\n",
        "\n",
        "media = (media1 + media2) / 2\n",
        "\n",
        "if media == 10:\n",
        "  print(\"Aprovado com Distinção\")\n",
        "elif media > 10:\n",
        "  print(\"Nota inválida\")\n",
        "elif media >= 7:\n",
        "  print(\"Aprovado\")\n",
        "else:\n",
        "  print(\"Reprovado\")"
      ],
      "metadata": {
        "id": "ev-btZ9FGnjW"
      },
      "execution_count": null,
      "outputs": []
    },
    {
      "cell_type": "markdown",
      "source": [
        "38.\tFaça um Programa para um caixa eletrônico. O programa deverá perguntar ao usuário a valor do saque e depois informar quantas notas de cada valor serão fornecidas. As notas disponíveis serão as de 1, 5, 10, 50 e 100 reais. O valor mínimo é de 10 reais e o máximo de 600 reais. O programa não deve se preocupar com a quantidade de notas existentes na máquina.\n",
        "\n",
        "Exemplo 1: Para sacar a quantia de 256 reais, o programa fornece duas notas de 100, uma nota de 50, uma nota de 5 e uma nota de 1;\n",
        "\n",
        "Exemplo 2: Para sacar a quantia de 399 reais, o programa fornece três notas de 100, uma nota de 50, quatro notas de 10, uma nota de 5 e quatro notas de 1.\n"
      ],
      "metadata": {
        "id": "7VhsXoW5HRUs"
      }
    },
    {
      "cell_type": "code",
      "source": [
        "valor = int(input(\"Qual valor será sacado?\"))\n",
        "\n",
        "if valor < 10 or valor > 600:\n",
        "  print(\"Valor inválido\")\n",
        "\n"
      ],
      "metadata": {
        "id": "O5eWrLRKOCtD"
      },
      "execution_count": null,
      "outputs": []
    },
    {
      "cell_type": "markdown",
      "source": [
        "39.\tFaça um Programa que peça um número inteiro e determine se ele é par ou impar."
      ],
      "metadata": {
        "id": "OskAx6IfNQJ0"
      }
    },
    {
      "cell_type": "code",
      "source": [
        "numero = int(input(\"Digite um numero: \"))\n",
        "\n",
        "if numero % 2 == 0:\n",
        "  print(\"Esse numero é par\")\n",
        "else:\n",
        "  print(\"Esse numero é impar\")"
      ],
      "metadata": {
        "id": "tZ-z1O4nNwEx"
      },
      "execution_count": null,
      "outputs": []
    },
    {
      "cell_type": "markdown",
      "source": [
        "40.\tFaça um Programa que leia 2 números e em seguida pergunte ao usuário qual operação ele deseja realizar. O resultado da operação deve ser acompanhado de uma frase que diga se o número é:\n",
        "\n",
        "par ou ímpar;\n",
        "\n",
        "positivo ou negativo;\n",
        "\n",
        "inteiro ou decimal.\n"
      ],
      "metadata": {
        "id": "fTOhNrXoNxF8"
      }
    },
    {
      "cell_type": "code",
      "source": [
        "numero = float(input(\"Digite um numero: \"))\n",
        "parte_inteira = int(numero)\n",
        "\n",
        "if parte_inteira % 2 == 0:\n",
        "  print(\"Esse numero é par\")\n",
        "else:\n",
        "  print(\"Esse numero é impar\")\n",
        "\n",
        "if numero > 0:\n",
        "  print(\"Esse numero é positivo\")\n",
        "else:\n",
        "  print(\"Esse numero é negativo\")\n",
        "\n",
        "if numero % 1 == 0:\n",
        "  print(\"Esse numero é inteiro\")\n",
        "else:\n",
        "  print(\"Esse numero é decimal\")"
      ],
      "metadata": {
        "id": "HFNslGGaM7-U"
      },
      "execution_count": null,
      "outputs": []
    },
    {
      "cell_type": "markdown",
      "source": [
        "41.\tFaça um programa que faça 5 perguntas para uma pessoa sobre um crime. As perguntas são:\n",
        "\n",
        "\"Telefonou para a vítima?\"\n",
        "\n",
        "\"Esteve no local do crime?\"\n",
        "\n",
        "\"Mora perto da vítima?\"\n",
        "\n",
        "\"Devia para a vítima?\"\n",
        "\n",
        "\"Já trabalhou com a vítima?\"\n",
        "\n",
        "O programa deve no final emitir uma classificação sobre a participação da pessoa no crime. Se a pessoa responder positivamente a 2 questões ela deve ser classificada como \"Suspeita\", entre 3 e 4 como \"Cúmplice\" e 5 como \"Assassino\". Caso contrário, ele será classificado como \"Inocente\".\n"
      ],
      "metadata": {
        "id": "TchP6IhYOneQ"
      }
    },
    {
      "cell_type": "code",
      "source": [
        "print (\"Responda as perguntas com 1 para sim e 0 para não\")\n",
        "\n",
        "telef = int(input(\"Telefonou para a vítima? \"))\n",
        "local = int(input(\"Esteve no local do crime? \"))\n",
        "mora = int(input(\"Mora perto da vítima? \"))\n",
        "devia = int(input(\"Devia para a vítima? \"))\n",
        "trabalhou = int(input(\"Já trabalhou com a vítima? \"))\n",
        "if telef > 1 or local > 1 or mora > 1 or devia > 1 or trabalhou > 1:\n",
        "  print(\"Resposta Invalida, deve ser respondido apenas com 0 e 1\")\n",
        "elif telef < 0 or local < 0 or mora < 0 or devia < 0 or trabalhou < 0:\n",
        "  print(\"Resposta Invalida, deve ser respondido apenas com 0 e 1\")\n",
        "elif telef + local + mora + devia + trabalhou == 5:\n",
        "  print(\"Assassino\")\n",
        "elif telef + local + mora + devia + trabalhou == 4 or telef + local + mora + devia + trabalhou == 3:\n",
        "  print(\"Cúmplice\")\n",
        "elif telef + local + mora + devia + trabalhou == 2:\n",
        "  print(\"Suspeita\")\n",
        "else:\n",
        "  print(\"Inocente\")"
      ],
      "metadata": {
        "id": "WtXQTCDLSPE_"
      },
      "execution_count": null,
      "outputs": []
    },
    {
      "cell_type": "markdown",
      "source": [
        "42.\tUm posto está vendendo combustíveis com a seguinte tabela de descontos:\n",
        "\n",
        "Álcool:\n",
        "\n",
        "até 20 litros, desconto de 3% por litro\n",
        "\n",
        "acima de 20 litros, desconto de 5% por litro\n",
        "\n",
        "Gasolina:\n",
        "\n",
        "até 20 litros, desconto de 4% por litro\n",
        "\n",
        "acima de 20 litros, desconto de 6% por litro.\n",
        "\n",
        "Escreva um programa que leia o número de litros vendidos, o tipo de combustível (codificado da seguinte forma: A-álcool, G-gasolina), calcule e imprima o valor a ser pago pelo cliente sabendo-se que o preço do litro da gasolina é 2,50 o preço do litro do álcool é  R$ 1,90.\n"
      ],
      "metadata": {
        "id": "WbJVbBi2RrsU"
      }
    },
    {
      "cell_type": "code",
      "source": [
        "numLitros = float(input(\"numero de litros: \"))\n",
        "tipoCombustivel = input(\"tipo combustível - A ou G \")\n",
        "\n",
        "limiteDescontoLitros = 20\n",
        "valorLitroAlcool = 1.9\n",
        "valorLitroGasolina = 2.5\n",
        "descontoAlcoolInferior = 0.97 # (1 - 0.03)\n",
        "descontoAlcoolSuperior = 0.95 # (1- 0.05)\n",
        "\n",
        "if tipoCombustivel == \"A\" or tipoCombustivel == 'a':\n",
        "    if numLitros <= limiteDescontoLitros:\n",
        "        valorPago = (numLitros * valorLitroAlcool) * descontoAlcoolInferior\n",
        "    else:\n",
        "        valorPago = (numLitros * valorLitroAlcool) * descontoAlcoolSuperior\n",
        "else:\n",
        "    if tipoCombustivel == \"G\" or tipoCombustivel == 'g':\n",
        "        if numLitros <= limiteDescontoLitros:\n",
        "            valorPago = (numLitros * valorLitroGasolina) * 0.96\n",
        "        else:\n",
        "            valorPago = (numLitros * valorLitroGasolina) * 0.94\n",
        "    else:\n",
        "        print(\"Informação inválida\")\n",
        "        valorPago = 0\n",
        "\n",
        "print(valorPago)"
      ],
      "metadata": {
        "id": "NRr6xXjiO5If"
      },
      "execution_count": null,
      "outputs": []
    },
    {
      "cell_type": "markdown",
      "source": [
        "43.\tUma fruteira está vendendo frutas com a seguinte tabela de preços:\n",
        "\n",
        "                    Até 5 Kg           Acima de 5 Kg\n",
        "\n",
        "Morango          R$ 2,50 por Kg          R$ 2,20 por Kg\n",
        "\n",
        "Maçã            R$ 1,80 por Kg          R$ 1,50 por Kg\n",
        "\n",
        "Se o cliente comprar mais de 8 Kg em frutas ou o valor total da compra ultrapassar R$ 25,00, receberá ainda um desconto de 10% sobre este total. Escreva um algoritmo para ler a quantidade (em Kg) de morangos e a quantidade (em Kg) de maças adquiridas e escreva o valor a ser pago pelo cliente.\n"
      ],
      "metadata": {
        "id": "cFt-7Mi5SQWY"
      }
    },
    {
      "cell_type": "code",
      "source": [
        "morango = float(input(\"Digite a quantidade de morangos: \"))\n",
        "maca = float(input(\"Digite a quantidade de maçãs: \"))\n",
        "\n",
        "if morango <= 5:\n",
        "  valormorango = morango * 2.5\n",
        "else:\n",
        "  valormorango = morango * 2.2\n",
        "\n",
        "if maca <= 5:\n",
        "  valormaca = maca * 1.8\n",
        "else:\n",
        "  valormaca = maca * 1.5\n",
        "\n",
        "total = valormorango + valormaca\n",
        "\n",
        "if morango + maca > 8 or total > 25:\n",
        "  total = total * 0.9\n",
        "\n",
        "print(\"O valor a ser pago é: R$\", total)\n"
      ],
      "metadata": {
        "id": "upHMbQIUPvXx"
      },
      "execution_count": null,
      "outputs": []
    },
    {
      "cell_type": "markdown",
      "source": [
        "44.\tElabore um algoritmo que dada a idade de um nadador classifica-o em uma das seguintes categorias:  infantil A = 5 - 7 anos; infantil B = 8-10 anos; juvenil A = 11-13 anos; juvenil B = 14-17 anos; adulto = maiores de 18 anos."
      ],
      "metadata": {
        "id": "uJF8WB2DSpaL"
      }
    },
    {
      "cell_type": "code",
      "source": [
        "idade = int(input(\"Digite a sua idade: \"))\n",
        "\n",
        "if idade >= 5 and idade <= 7:\n",
        "  print(\"Infantil A\")\n",
        "elif idade >= 8 and idade <= 10:\n",
        "  print(\"Infantil B\")\n",
        "elif idade >= 11 and idade <= 13:\n",
        "  print(\"Juvenil A\")\n",
        "elif idade >= 14 and idade <= 17:\n",
        "  print(\"Juvenil B\")\n",
        "elif idade >= 18:\n",
        "  print(\"Adulto\")\n",
        "else:\n",
        "  print(\"Idade inválida para competição\")"
      ],
      "metadata": {
        "id": "WNO4gj8QTPEm"
      },
      "execution_count": null,
      "outputs": []
    },
    {
      "cell_type": "markdown",
      "source": [
        "45.\tTendo como dados de entrada a altura e o sexo de uma pessoa, construa um algoritmo que calcule seu peso ideal, utilizando as seguintes fórmulas: para homens: (72.7*h) – 58 e para mulheres: (62.1*h) - 44.7 (h = altura)\n",
        "\n",
        "\n",
        "\n"
      ],
      "metadata": {
        "id": "GWHwkcscTR8f"
      }
    },
    {
      "cell_type": "code",
      "source": [
        "sexo = str(input(\"Digite M para masculino e F para feminino:\"))\n",
        "sexo = sexo.upper()\n",
        "altura = int(input(\"Digite sua altura em centimetros:\"))\n",
        "\n",
        "h = altura / 100\n",
        "\n",
        "if sexo == \"M\":\n",
        "  peso = (72.7 * h) - 58\n",
        "  print (\"Seu peso ideal é \", peso)\n",
        "elif sexo == \"F\":\n",
        "  peso = (62.1 * h) - 44.7\n",
        "  print (\"Seu peso ideal é \", peso)\n",
        "else:\n",
        "  print(\"Sexo Invalido\")\n"
      ],
      "metadata": {
        "id": "UqrZ6o0BTaGt"
      },
      "execution_count": null,
      "outputs": []
    }
  ]
}